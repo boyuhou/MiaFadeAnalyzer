{
 "metadata": {
  "language_info": {
   "codemirror_mode": {
    "name": "ipython",
    "version": 3
   },
   "file_extension": ".py",
   "mimetype": "text/x-python",
   "name": "python",
   "nbconvert_exporter": "python",
   "pygments_lexer": "ipython3",
   "version": "3.7.9-final"
  },
  "orig_nbformat": 2,
  "kernelspec": {
   "name": "python3",
   "display_name": "Python 3",
   "language": "python"
  }
 },
 "nbformat": 4,
 "nbformat_minor": 2,
 "cells": [
  {
   "cell_type": "code",
   "execution_count": null,
   "metadata": {},
   "outputs": [],
   "source": [
    "import pandas as pd\n"
   ]
  },
  {
   "source": [
    "# Reade the data from excel copy"
   ],
   "cell_type": "markdown",
   "metadata": {}
  },
  {
   "cell_type": "code",
   "execution_count": null,
   "metadata": {},
   "outputs": [],
   "source": [
    "df = pd.read_clipboard()"
   ]
  },
  {
   "cell_type": "code",
   "execution_count": null,
   "metadata": {},
   "outputs": [],
   "source": [
    "df.shape"
   ]
  },
  {
   "cell_type": "code",
   "execution_count": null,
   "metadata": {},
   "outputs": [],
   "source": [
    "start_date = \"2020-11-01\"\n",
    "df = df.rename(columns={\"SignalTime\": \"Date\"}).set_index(\"Date\")\n",
    "df.index = pd.to_datetime(df.index)\n",
    "df = df.loc[start_date:]"
   ]
  },
  {
   "source": [
    "# Verify Wide VA"
   ],
   "cell_type": "markdown",
   "metadata": {}
  },
  {
   "cell_type": "code",
   "execution_count": null,
   "metadata": {},
   "outputs": [],
   "source": [
    "mask = ((df[\"FtValueAreaHigh\"] - df[\"FtValueAreaLow\"]) / df[\"FtAtr\"] < 0.5)\n",
    "df.loc[mask].empty"
   ]
  },
  {
   "source": [
    "# Price \"above\" Wide VA up and \"below\" Wide VA down "
   ],
   "cell_type": "markdown",
   "metadata": {}
  },
  {
   "cell_type": "code",
   "execution_count": null,
   "metadata": {},
   "outputs": [],
   "source": [
    "up_mask = (\n",
    "    (df[\"Direction\"] == \"UP\") &\n",
    "    (df[\"FtSignalLow\"] > (df[\"FtValueAreaHigh\"] - df[\"BgAtr\"] * 0.4))\n",
    ")\n",
    "down_mask = (\n",
    "    (df[\"Direction\"] == \"DOWN\") &\n",
    "    (df[\"FtSignalHigh\"] < (df[\"FtValueAreaLow\"] + df[\"BgAtr\"] * 0.4))\n",
    ")\n",
    "# df.loc[up_mask | down_mask].to_clipboard()\n",
    "df_outside_va = df.loc[up_mask | down_mask].copy(deep=True)"
   ]
  },
  {
   "source": [
    "### Identify some attributes for the behavior\n",
    "We will use the bg close move or the bg MAE MFE relationship"
   ],
   "cell_type": "markdown",
   "metadata": {}
  },
  {
   "cell_type": "code",
   "execution_count": null,
   "metadata": {},
   "outputs": [],
   "source": [
    "# use VA as an identifier\n",
    "up_mask = (\n",
    "    (df_outside_va[\"Direction\"] == \"UP\") &\n",
    "    (df_outside_va[\"BgP1MFE\"] < df_outside_va[\"BgP2MFE\"]) &\n",
    "    (df_outside_va[\"BgP2MFE\"] < df_outside_va[\"BgP3MFE\"]) &\n",
    "    (df_outside_va[\"BgP2MAE\"] >= df_outside_va[\"BgP3MAE\"]) \n",
    ")\n",
    "down_mask = (\n",
    "    (df_outside_va[\"Direction\"] == \"DOWN\") &\n",
    "    (df_outside_va[\"BgP1MFE\"] > df_outside_va[\"BgP2MFE\"]) &\n",
    "    (df_outside_va[\"BgP2MFE\"] > df_outside_va[\"BgP3MFE\"]) &\n",
    "    (df_outside_va[\"BgP2MAE\"] <= df_outside_va[\"BgP3MAE\"]) \n",
    ")\n",
    "\n",
    "df_outside_va[\"BgMoveMFEMAE\"] = 0\n",
    "df_outside_va.loc[(up_mask | down_mask), \"BgMoveMFEMAE\"] = 1"
   ]
  },
  {
   "cell_type": "code",
   "execution_count": null,
   "metadata": {},
   "outputs": [],
   "source": [
    "# use VA as an identifier\n",
    "up_mask = (\n",
    "    (df_outside_va[\"Direction\"] == \"UP\") &\n",
    "    (df_outside_va[\"BgP1Close\"] < df_outside_va[\"BgP2Close\"]) &\n",
    "    (df_outside_va[\"BgP2Close\"] < df_outside_va[\"BgP3Close\"]) \n",
    ")\n",
    "down_mask = (\n",
    "    (df_outside_va[\"Direction\"] == \"DOWN\") &\n",
    "    (df_outside_va[\"BgP1Close\"] > df_outside_va[\"BgP2Close\"]) &\n",
    "    (df_outside_va[\"BgP2Close\"] > df_outside_va[\"BgP3Close\"])  \n",
    ")\n",
    "\n",
    "df_outside_va[\"BgMoveClose\"] = 0\n",
    "df_outside_va.loc[(up_mask | down_mask), \"BgMoveClose\"] = 1"
   ]
  },
  {
   "cell_type": "code",
   "execution_count": null,
   "metadata": {},
   "outputs": [],
   "source": [
    "mask = (\n",
    "    (df_outside_va[\"BgMoveClose\"]  == 1) |\n",
    "    (df_outside_va[\"BgMoveMFEMAE\"] == 1)\n",
    ")\n",
    "df_outside_va[\"BgMove\"] = 0 \n",
    "df_outside_va.loc[mask, \"BgMove\"] = 1 "
   ]
  },
  {
   "cell_type": "code",
   "execution_count": null,
   "metadata": {},
   "outputs": [],
   "source": [
    "df_outside_va.drop_duplicates(subset=[\"Ticker\", \"BgBarNumber\"]).to_clipboard()"
   ]
  },
  {
   "cell_type": "code",
   "execution_count": null,
   "metadata": {},
   "outputs": [],
   "source": []
  }
 ]
}