{
 "cells": [
  {
   "cell_type": "code",
   "execution_count": 1,
   "metadata": {},
   "outputs": [],
   "source": [
    "import pandas as pd\n",
    "import mia"
   ]
  },
  {
   "cell_type": "markdown",
   "metadata": {},
   "source": [
    "# Reade the data from excel copy"
   ]
  },
  {
   "cell_type": "code",
   "execution_count": 2,
   "metadata": {},
   "outputs": [],
   "source": [
    "df = pd.read_clipboard()"
   ]
  },
  {
   "cell_type": "code",
   "execution_count": 3,
   "metadata": {},
   "outputs": [
    {
     "output_type": "execute_result",
     "data": {
      "text/plain": [
       "(984, 69)"
      ]
     },
     "metadata": {},
     "execution_count": 3
    }
   ],
   "source": [
    "df.shape"
   ]
  },
  {
   "cell_type": "code",
   "execution_count": 4,
   "metadata": {},
   "outputs": [],
   "source": [
    "start_date = \"2020-11-01\"\n",
    "df = df.mia.init(start_date)\n",
    "df.mia.normalize()"
   ]
  },
  {
   "cell_type": "code",
   "execution_count": 5,
   "metadata": {},
   "outputs": [],
   "source": [
    "df.to_clipboard()"
   ]
  },
  {
   "cell_type": "markdown",
   "metadata": {},
   "source": [
    "# Verify Wide VA"
   ]
  },
  {
   "cell_type": "code",
   "execution_count": 5,
   "metadata": {},
   "outputs": [
    {
     "output_type": "execute_result",
     "data": {
      "text/plain": [
       "False"
      ]
     },
     "metadata": {},
     "execution_count": 5
    }
   ],
   "source": [
    "mask = ((df[\"FtValueAreaHigh\"] - df[\"FtValueAreaLow\"]) / df[\"FtAtr\"] < 0.5)\n",
    "df.loc[mask].empty"
   ]
  },
  {
   "cell_type": "code",
   "execution_count": 8,
   "metadata": {},
   "outputs": [],
   "source": [
    "df.loc[mask].to_clipboard()"
   ]
  },
  {
   "cell_type": "code",
   "execution_count": null,
   "metadata": {},
   "outputs": [],
   "source": [
    "mask = (\n",
    "    (df[\"FtBarCount\"].abs() > 2 )\n",
    ")\n",
    "df.loc[mask].mia.show().to_clipboard()"
   ]
  },
  {
   "cell_type": "markdown",
   "metadata": {},
   "source": [
    "# Green is up and yellow is up too"
   ]
  },
  {
   "cell_type": "code",
   "execution_count": null,
   "metadata": {},
   "outputs": [],
   "source": [
    "up_mask = (\n",
    "    (df[\"Direction\"] == \"UP\") &\n",
    "    (df[\"rFtGreen\"] > 0.1) &\n",
    "    (df['rFtYellow'] > df['rFtGreen'])\n",
    ")\n",
    "down_mask = (\n",
    "    (df[\"Direction\"] == \"DOWN\") &\n",
    "    (df[\"rFtGreen\"] < -0.1) &\n",
    "    (df['rFtYellow'] < df['rFtGreen'])\n",
    ")\n",
    "df.loc[up_mask | down_mask].mia.show().to_clipboard()\n",
    "df_filter = df.loc[up_mask | down_mask].copy(deep=True)"
   ]
  },
  {
   "cell_type": "markdown",
   "metadata": {},
   "source": [
    "### Identify some attributes for the behavior\n",
    "We will use the bg close move or the bg MAE MFE relationship"
   ]
  },
  {
   "cell_type": "code",
   "execution_count": null,
   "metadata": {},
   "outputs": [],
   "source": [
    "# use VA as an identifier\n",
    "up_mask = (\n",
    "    (df_outside_va[\"Direction\"] == \"UP\") &\n",
    "    (df_outside_va[\"BgP1MFE\"] < df_outside_va[\"BgP2MFE\"]) &\n",
    "    (df_outside_va[\"BgP2MFE\"] < df_outside_va[\"BgP3MFE\"]) &\n",
    "    (df_outside_va[\"BgP2MAE\"] >= df_outside_va[\"BgP3MAE\"]) \n",
    ")\n",
    "down_mask = (\n",
    "    (df_outside_va[\"Direction\"] == \"DOWN\") &\n",
    "    (df_outside_va[\"BgP1MFE\"] > df_outside_va[\"BgP2MFE\"]) &\n",
    "    (df_outside_va[\"BgP2MFE\"] > df_outside_va[\"BgP3MFE\"]) &\n",
    "    (df_outside_va[\"BgP2MAE\"] <= df_outside_va[\"BgP3MAE\"]) \n",
    ")\n",
    "\n",
    "df_outside_va[\"BgMoveMFEMAE\"] = 0\n",
    "df_outside_va.loc[(up_mask | down_mask), \"BgMoveMFEMAE\"] = 1"
   ]
  },
  {
   "cell_type": "code",
   "execution_count": null,
   "metadata": {},
   "outputs": [],
   "source": [
    "# use VA as an identifier\n",
    "up_mask = (\n",
    "    (df_outside_va[\"Direction\"] == \"UP\") &\n",
    "    (df_outside_va[\"BgP1Close\"] < df_outside_va[\"BgP2Close\"]) &\n",
    "    (df_outside_va[\"BgP2Close\"] < df_outside_va[\"BgP3Close\"]) \n",
    ")\n",
    "down_mask = (\n",
    "    (df_outside_va[\"Direction\"] == \"DOWN\") &\n",
    "    (df_outside_va[\"BgP1Close\"] > df_outside_va[\"BgP2Close\"]) &\n",
    "    (df_outside_va[\"BgP2Close\"] > df_outside_va[\"BgP3Close\"])  \n",
    ")\n",
    "\n",
    "df_outside_va[\"BgMoveClose\"] = 0\n",
    "df_outside_va.loc[(up_mask | down_mask), \"BgMoveClose\"] = 1"
   ]
  },
  {
   "cell_type": "code",
   "execution_count": null,
   "metadata": {},
   "outputs": [],
   "source": [
    "mask = (\n",
    "    (df_outside_va[\"BgMoveClose\"]  == 1) |\n",
    "    (df_outside_va[\"BgMoveMFEMAE\"] == 1)\n",
    ")\n",
    "df_outside_va[\"BgMove\"] = 0 \n",
    "df_outside_va.loc[mask, \"BgMove\"] = 1 "
   ]
  },
  {
   "cell_type": "code",
   "execution_count": null,
   "metadata": {},
   "outputs": [],
   "source": [
    "mask = (\n",
    "    (df_outside_va[\"rBgP2MFE\"] > 0.4) &\n",
    "    (df_outside_va[\"rBgP3MFE\"] > 1) &\n",
    "    (df_outside_va[\"rBgP1MAE\"] > -0.4) &\n",
    "    (df_outside_va[\"rBgP2MAE\"] > -0.4) &\n",
    "    (df_outside_va[\"rBgP3MAE\"] > -0.4)\n",
    ")\n",
    "df_outside_va[\"BgMove2\"] = 0\n",
    "df_outside_va.loc[mask, \"BgMove2\"] = 1"
   ]
  },
  {
   "cell_type": "code",
   "execution_count": null,
   "metadata": {},
   "outputs": [],
   "source": [
    "df_outside_va.mia.show().to_clipboard()"
   ]
  },
  {
   "cell_type": "code",
   "execution_count": null,
   "metadata": {},
   "outputs": [],
   "source": []
  }
 ],
 "metadata": {
  "kernelspec": {
   "display_name": "Python 3",
   "language": "python",
   "name": "python3"
  },
  "language_info": {
   "codemirror_mode": {
    "name": "ipython",
    "version": 3
   },
   "file_extension": ".py",
   "mimetype": "text/x-python",
   "name": "python",
   "nbconvert_exporter": "python",
   "pygments_lexer": "ipython3",
   "version": "3.7.9-final"
  }
 },
 "nbformat": 4,
 "nbformat_minor": 4
}